{
 "cells": [
  {
   "cell_type": "code",
   "execution_count": 82,
   "metadata": {
    "vscode": {
     "languageId": "r"
    }
   },
   "outputs": [],
   "source": [
    "library(tidyverse)\n",
    "library(plotly)\n",
    "library(shiny)\n",
    "\n",
    "codes1 = read.csv(\"./data/2022/DC-2022/NIBRS_OFFENSE_TYPE.csv\")\n",
    "codes2 = read.csv(\"./data/2020/DC-2020/NIBRS_OFFENSE_TYPE.csv\")\n",
    "\n",
    "# 22,21  /  20,19,18\n",
    "\n",
    "# Simple Assault  13B / 51\n",
    "# Destruction/Damage/Vandalism of Property 290 / 5\n",
    "# Theft From Motor Vehicle 23F / 14\n",
    "# Motor Vehicle Theft 240 / 21\n",
    "# Intimidation 13C / 44\n",
    "# identity theft 26F / 63\n",
    "# robbery 120 / 40\n",
    "# Drug/Narcotic Violations 35A / 16\n",
    "# All Other Larceny 23H / 45"
   ]
  },
  {
   "cell_type": "code",
   "execution_count": 83,
   "metadata": {
    "vscode": {
     "languageId": "r"
    }
   },
   "outputs": [],
   "source": [
    "extract_offense = function(base_dir, year){\n",
    "    state_dfs = list() \n",
    "    for(state in list.files(paste0(base_dir, year))){\n",
    "        file_path = paste0(base_dir,year,\"/\",state,\"/NIBRS_OFFENSE.csv\")\n",
    "        df = read.csv(file_path)\n",
    "        df_name = paste0(\"offense_\", substring(state,1,2),\"_\",year)\n",
    "        assign(df_name, df)\n",
    "        state_dfs[[substring(state,1,2)]] = df\n",
    "    }\n",
    "    return(state_dfs)\n",
    "}\n",
    "\n",
    "count_offense = function(offense_codes, offense_df){\n",
    "  n_offenses = sapply(offense_df, function(df){\n",
    "    lengths = sapply(offense_codes, function(offense_code){\n",
    "      if(offense_code == \"ALL\"){\n",
    "          length(unique(df$offense_id))\n",
    "      } else {\n",
    "          sum(df$offense_code == offense_code)\n",
    "      }\n",
    "    })\n",
    "    names(lengths) = offense_codes\n",
    "    lengths\n",
    "  })\n",
    "  n_offenses = as.data.frame(t(n_offenses))\n",
    "  n_offenses$state_abb = row.names(n_offenses)\n",
    "  row.names(n_offenses) = NULL\n",
    "  return(n_offenses)\n",
    "}\n",
    "\n",
    "count_offense2 = function(offense_codes, offense_df){\n",
    "  n_offenses = sapply(offense_df, function(df){\n",
    "    lengths = sapply(offense_codes, function(offense_code){\n",
    "      if(offense_code == \"ALL\"){\n",
    "          length(unique(df$OFFENSE_ID))\n",
    "      } else {\n",
    "          sum(df$OFFENSE_TYPE_ID == offense_code)\n",
    "      }\n",
    "    })\n",
    "    names(lengths) = offense_codes\n",
    "    lengths\n",
    "  })\n",
    "  n_offenses = as.data.frame(t(n_offenses))\n",
    "  n_offenses$state_abb = row.names(n_offenses)\n",
    "  row.names(n_offenses) = NULL\n",
    "  return(n_offenses)\n",
    "}\n",
    "\n",
    "get_offense_code = function(codes, offense_name){\n",
    "  offense_code = codes[codes$offense_name == offense_name, \"offense_code\"]\n",
    "  if(offense_name == \"ALL\"){\n",
    "    return(offense_name)\n",
    "  } else {\n",
    "    return(offense_code)\n",
    "  }\n",
    "}\n",
    "\n",
    "get_offense_code2 = function(codes, offense_name){\n",
    "  offense_code = as.character(codes[codes$OFFENSE_NAME == offense_name, \"OFFENSE_TYPE_ID\"])\n",
    "  if(offense_name == \"ALL\"){\n",
    "    return(offense_name)\n",
    "  } else {\n",
    "    return(offense_code)\n",
    "  }\n",
    "}\n",
    "\n",
    "base_dir = \"./data/\"\n",
    "offense_codes1 = c(\"ALL\", \"13B\", \"290\", \"23F\", \"240\", \"13C\", \"26F\", \"120\", \"35A\", \"23H\")\n",
    "offense_codes2 = c(\"ALL\", \"51\", \"5\", \"14\", \"21\", \"44\", \"63\", \"40\", \"16\", \"45\")\n",
    "\n",
    "offense_22 = extract_offense(base_dir, year=2022)\n",
    "offense_21 = extract_offense(base_dir, year=2021)\n",
    "offense_20 = extract_offense(base_dir, year=2020)\n",
    "offense_19 = extract_offense(base_dir, year=2019)\n",
    "offense_18 = extract_offense(base_dir, year=2018)\n",
    "\n",
    "n_offense_22 = count_offense(offense_codes1, offense_22)\n",
    "n_offense_21 = count_offense(offense_codes1, offense_21)\n",
    "n_offense_20 = count_offense2(offense_codes2, offense_20)\n",
    "n_offense_19 = count_offense2(offense_codes2, offense_19)\n",
    "n_offense_18 = count_offense2(offense_codes2, offense_18)\n",
    "\n",
    "n_offense = list(\"2022\" = n_offense_22, \"2021\" = n_offense_21, \"2020\" = n_offense_20, \"2019\" = n_offense_19, \"2018\" = n_offense_18)"
   ]
  },
  {
   "cell_type": "code",
   "execution_count": 85,
   "metadata": {
    "vscode": {
     "languageId": "r"
    }
   },
   "outputs": [
    {
     "name": "stderr",
     "output_type": "stream",
     "text": [
      "\n",
      "Listening on http://127.0.0.1:6349\n",
      "\n"
     ]
    }
   ],
   "source": [
    "types = c(\"ALL\", \"Simple Assault\", \"Motor Vehicle Theft\", \"Intimidation\", \"Identity Theft\", \"Robbery\")\n",
    "\n",
    "g = list(\n",
    "  scope = 'usa',\n",
    "  projection = list(type = 'albers usa'),\n",
    "  showlakes = TRUE,\n",
    "  lakecolor = toRGB('white')\n",
    ")\n",
    "\n",
    "ui = fluidPage(\n",
    "  titlePanel(\"Crimes in United States by offense type\"),\n",
    "  sidebarLayout(\n",
    "    sidebarPanel(\n",
    "      selectInput(\"yearInput\", \"Year:\", choices = c(\"2018\",\"2019\",\"2020\",\"2021\",\"2022\")),\n",
    "      selectInput(\"offenseInput\", \"Offense Type:\", choices = types)\n",
    "    ),\n",
    "    mainPanel(\n",
    "      plotlyOutput(\"crimeMap\")\n",
    "    )\n",
    "  )\n",
    ")\n",
    "\n",
    "server = function(input, output){\n",
    "  output$crimeMap = renderPlotly({\n",
    "    df = n_offense[[input$yearInput]]\n",
    "    if(input$yearInput %in% c(\"2022\", \"2021\")){\n",
    "      offense_code = get_offense_code(codes1, input$offenseInput)\n",
    "    } else if (input$yearInput %in% c(\"2020\", \"2019\", \"2018\")){\n",
    "      offense_code = get_offense_code2(codes2, input$offenseInput)\n",
    "    }\n",
    "    map = plot_geo(locationmode = 'USA-states')\n",
    "    map = map %>% add_trace(\n",
    "      z = df[[offense_code]], locations = df$state_abb,\n",
    "      color = df[[offense_code]], colors = \"Purples\")\n",
    "    map = map %>% layout(\n",
    "      title = \"Offenses\",\n",
    "      geo = g)\n",
    "    map\n",
    "  })\n",
    "}\n",
    "\n",
    "shinyApp(ui = ui, server = server)"
   ]
  },
  {
   "cell_type": "markdown",
   "metadata": {
    "vscode": {
     "languageId": "r"
    }
   },
   "source": [
    "https://github.com/coatless-quarto/r-shinylive-demo"
   ]
  }
 ],
 "metadata": {
  "kernelspec": {
   "display_name": "R",
   "language": "R",
   "name": "ir"
  },
  "language_info": {
   "codemirror_mode": "r",
   "file_extension": ".r",
   "mimetype": "text/x-r-source",
   "name": "R",
   "pygments_lexer": "r",
   "version": "4.3.1"
  }
 },
 "nbformat": 4,
 "nbformat_minor": 2
}
